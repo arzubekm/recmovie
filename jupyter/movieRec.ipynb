{
 "cells": [
  {
   "cell_type": "code",
   "execution_count": 57,
   "id": "incorrect-error",
   "metadata": {},
   "outputs": [],
   "source": [
    "import pandas as pd\n",
    "import scipy.sparse as sp\n",
    "from sklearn.feature_extraction.text import TfidfVectorizer\n",
    "from sklearn.feature_extraction.text import CountVectorizer\n",
    "from sklearn.metrics.pairwise import cosine_similarity\n",
    "\n",
    "def get_data():\n",
    "    movie_data = pd.read_csv('dataset/movie_data.csv')\n",
    "    movie_data['original_title'] = movie_data['original_title'].str.lower()\n",
    "    return movie_data\n",
    "\n",
    "def combine_data(data):\n",
    "    data_recommend = data.drop(columns=['movie_id', 'original_title','plot'])\n",
    "    data_recommend['combine'] = data_recommend[data_recommend.columns[0:2]].apply(\n",
    "                                                                         lambda x: ','.join(x.dropna().astype(str)),axis=1)\n",
    "    data_recommend = data_recommend.drop(columns=[ 'cast','genres'])\n",
    "    return data_recommend\n",
    "\n",
    "def transform_data(data_combine, data_plot):\n",
    "    count = CountVectorizer(stop_words='english')\n",
    "    count_matrix = count.fit_transform(data_combine['combine'])\n",
    "\n",
    "    tfidf = TfidfVectorizer(stop_words='english')\n",
    "    tfidf_matrix = tfidf.fit_transform(data_plot['plot'])\n",
    "\n",
    "    combine_sparse = sp.hstack([count_matrix, tfidf_matrix], format='csr')\n",
    "\n",
    "    cosine_sim = cosine_similarity(combine_sparse, combine_sparse)\n",
    "\n",
    "    return cosine_sim\n",
    "\n",
    "def recommend_movies(title, data, combine, transform):\n",
    "\n",
    "    indices = pd.Series(data.index, index = data['original_title'])\n",
    "    index = indices[title]\n",
    "\n",
    "    sim_scores = list(enumerate(transform[index]))\n",
    "    sim_scores = sorted(sim_scores, key=lambda x: x[1], reverse=True)\n",
    "    sim_scores = sim_scores[1:21]\n",
    "\n",
    "    movie_indices = [i[0] for i in sim_scores]\n",
    "\n",
    "    movie_id = data['movie_id'].iloc[movie_indices]\n",
    "    movie_title = data['original_title'].iloc[movie_indices]\n",
    "    movie_genres = data['genres'].iloc[movie_indices]\n",
    "\n",
    "    recommendation_data = pd.DataFrame(columns=['Movie_Id','Name','Genres'])\n",
    "\n",
    "    recommendation_data['Movie_Id'] = movie_id\n",
    "    recommendation_data['Name'] = movie_title\n",
    "    recommendation_data['Genres'] = movie_genres\n",
    "\n",
    "    return recommendation_data\n",
    "\n",
    "def results(movie_name):\n",
    "    movie_name = movie_name.lower()\n",
    "\n",
    "    find_movie = get_data()\n",
    "    combine_result = combine_data(find_movie)\n",
    "    transform_result = transform_data(combine_result,find_movie)\n",
    "\n",
    "    if movie_name not in find_movie['original_title'].unique():\n",
    "        return 'Movie not in Database'\n",
    "\n",
    "    else:\n",
    "        recommendations = recommend_movies(movie_name, find_movie, combine_result, transform_result)\n",
    "        return recommendations.to_dict('records')\n"
   ]
  },
  {
   "cell_type": "code",
   "execution_count": 62,
   "id": "subtle-harvest",
   "metadata": {},
   "outputs": [
    {
     "name": "stdout",
     "output_type": "stream",
     "text": [
      "the revenant\n"
     ]
    }
   ],
   "source": [
    "print(results('Catch me if you can')[1]['Name'])"
   ]
  },
  {
   "cell_type": "code",
   "execution_count": null,
   "id": "undefined-maker",
   "metadata": {},
   "outputs": [],
   "source": []
  }
 ],
 "metadata": {
  "kernelspec": {
   "display_name": "Python 3",
   "language": "python",
   "name": "python3"
  },
  "language_info": {
   "codemirror_mode": {
    "name": "ipython",
    "version": 3
   },
   "file_extension": ".py",
   "mimetype": "text/x-python",
   "name": "python",
   "nbconvert_exporter": "python",
   "pygments_lexer": "ipython3",
   "version": "3.8.5"
  }
 },
 "nbformat": 4,
 "nbformat_minor": 5
}
